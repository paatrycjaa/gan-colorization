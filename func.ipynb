{
 "cells": [
  {
   "cell_type": "markdown",
   "metadata": {},
   "source": [
    "### Colorization of panchromatic space images with Generative Adversarial Network\n",
    "\n",
    "Author: Patrycja Cieplicka\n",
    "\n",
    "Date: 12 Jan 2020\n",
    "\n",
    "Implementation of needed functions to load/save/analyze data"
   ]
  },
  {
   "cell_type": "code",
   "execution_count": 1,
   "metadata": {},
   "outputs": [
    {
     "name": "stderr",
     "output_type": "stream",
     "text": [
      "Using TensorFlow backend.\n"
     ]
    }
   ],
   "source": [
    "from ipynb.fs.full.packages import *"
   ]
  },
  {
   "cell_type": "code",
   "execution_count": 2,
   "metadata": {},
   "outputs": [],
   "source": [
    "def load_color(path):\n",
    "\n",
    "    #sort names of images\n",
    "    filenames_color = []\n",
    "    for filename in os.listdir(path+'/RGB-PanSharpen'):\n",
    "        filenames_color.append(filename)\n",
    "    filenames_color.sort()\n",
    "\n",
    "    #load color images\n",
    "    Y= []\n",
    "    for filename in filenames_color:\n",
    "        if filename == 'RGB-PanSharpen_AOI_3_Paris_img107.tif.aux.xml': continue\n",
    "        with rasterio.open(path +'/RGB-PanSharpen/' + filename, 'r') as src:\n",
    "\n",
    "            new = img = np.empty((src.width, src.height, src.count), dtype ='uint8')\n",
    "            img = np.empty((src.width, src.height, src.count))\n",
    "            img[:, :, 0] = src.read(1)   #channel red\n",
    "            img[:, :, 1] = src.read(2)   #channel green\n",
    "            img[:, :, 2] = src.read(3)   #channel blue\n",
    "            \n",
    "            #add contrast\n",
    "            p2 = np.percentile(img[:,:,1], 2)\n",
    "            p98 = np.percentile(img[:,:,1],98)\n",
    "            img = (img - p2)/(p98 - p2)\n",
    "\n",
    "            #convert to 8-bit (0-255)\n",
    "            new = bytescale(img)\n",
    "            new = resize(new,(128,128), anti_aliasing=True)\n",
    "\n",
    "            Y.append(new)\n",
    "\n",
    "    Y = np.array(Y, dtype=float)\n",
    "\n",
    "    return Y"
   ]
  },
  {
   "cell_type": "code",
   "execution_count": 10,
   "metadata": {},
   "outputs": [],
   "source": [
    "def load_gray(path):\n",
    "\n",
    "    #sort names of images\n",
    "    filenames_grey = []\n",
    "    for filename in os.listdir(path+'/PAN'):\n",
    "        filenames_grey.append(filename)\n",
    "    filenames_grey.sort()\n",
    "\n",
    "    #load grayscaled images\n",
    "    X= []\n",
    "    for filename in filenames_grey:\n",
    "        if filename == '.ipynb_checkpoints' : continue\n",
    "        with rasterio.open(path +'/PAN/' + filename, 'r') as src:\n",
    "            pan = np.empty((src.width, src.height, src.count))\n",
    "            pan[:, :, 0] = src.read(1) #panchromatic channel\n",
    "            \n",
    "            #add contrast\n",
    "            p2 = np.percentile(pan[:, :, 0], 2)\n",
    "            p98 = np.percentile(pan[:, :, 0],98)\n",
    "            pan[:, :, 0] = (pan[:, :, 0] - p2)/(p98 - p2)\n",
    "\n",
    "            #convert to 8-bit (0-255)\n",
    "            new = bytescale(pan)\n",
    "            new = resize(new,(128,128), anti_aliasing=True)\n",
    "            \n",
    "            X.append(new)\n",
    "            \n",
    "    X = np.array(X, dtype ='float')\n",
    "    \n",
    "    return X"
   ]
  },
  {
   "cell_type": "code",
   "execution_count": 17,
   "metadata": {},
   "outputs": [],
   "source": [
    "def predict_image_ab(X_l, Xlab, model):\n",
    "    #Input: X_l - test images to colorize (L channel normalized)\n",
    "    #Xlab - empty, to save generated image in Lab\n",
    "    #model - loaded model colorization\n",
    "    #Output: col - generated images in RGB\n",
    "    \n",
    "    col = []\n",
    "    output = model.predict(X_l)  #predtict ab channel(normalized)\n",
    "\n",
    "    output = output * 128        #ab channels\n",
    "    X_l = X_l * 100              #L channel\n",
    "    \n",
    "    #create colorized image from L and ab channels\n",
    "    for j in range(len(output)):\n",
    "            photo = np.zeros((128, 128, 3))\n",
    "            photo[:,:,1:] = output[j]\n",
    "            photo[:,:,0] = X_l[j][:,:,0]\n",
    "            col.append(lab2rgb(photo))       #colorized image to RGB\n",
    "            Xlab.append(photo)\n",
    "            \n",
    "    col = np.array(col, dtype=float)\n",
    "    Xlab = np.array(Xlab, dtype=float)\n",
    "    return col"
   ]
  },
  {
   "cell_type": "code",
   "execution_count": 12,
   "metadata": {},
   "outputs": [],
   "source": [
    "def predict_image_lab(X_l, Xlab, model):\n",
    "    #Input: X_l - test images to colorize (L channel normalized)\n",
    "    #Xlab - empty, to save generated image in Lab\n",
    "    #model - loaded model colorization\n",
    "    #Output: col - generated images in RGB\n",
    "    \n",
    "    col = []\n",
    "    output = model.predict(X_l)  #predtict lab channel(normalized)\n",
    "\n",
    "    output[:,:,:,1:] = output[:,:,:,1:] * 128    #ab channels\n",
    "    output[:,:,:,0] = output[:,:,:,0] * 100      #L channel\n",
    "    \n",
    "    #create colorized image from L and ab channels\n",
    "    for j in range(len(output)):\n",
    "            photo = np.zeros((128, 128, 3))\n",
    "            photo = output[j]\n",
    "            col.append(lab2rgb(photo))    #colorized image to RGB\n",
    "            Xlab.append(photo)\n",
    "            \n",
    "    col = np.array(col, dtype=float)\n",
    "    Xlab = np.array(Xlab, dtype=float)\n",
    "    return col"
   ]
  },
  {
   "cell_type": "code",
   "execution_count": 13,
   "metadata": {},
   "outputs": [],
   "source": [
    "def predict_image_rgb(X_l, model):\n",
    "    #Input: X_l - test images to colorize (L channel normalized)\n",
    "    #model - loaded model colorization\n",
    "    #Output: col - generated images in RGB\n",
    "    \n",
    "    col = []\n",
    "    output = model.predict(X_l)  #predict rgb channles (normalized) \n",
    "    \n",
    "    col = np.array(output*255, dtype=float)\n",
    "    return col"
   ]
  },
  {
   "cell_type": "code",
   "execution_count": 14,
   "metadata": {},
   "outputs": [],
   "source": [
    "def meanSquarredError(Xgen, Ytrue):\n",
    "    #Input: Xgen - generated images in RGB\n",
    "    #Ytrue - real images in RGB\n",
    "    #Output: error_mean - Mean Squarred Error\n",
    "    \n",
    "    n_images = 214\n",
    "    summ = []\n",
    "    summ_ch = np.zeros([1,n_images])\n",
    "    for j in range(0,3):\n",
    "        for i in range(0, n_images):\n",
    "            summ.append( np.sum((255*Xgen[i,:,:,j] - 255*Ytrue[i,:,:,j]) **2) )\n",
    "        summ_ch = np.add(np.array(summ, dtype='float'), summ_ch)\n",
    "        summ = []\n",
    "    \n",
    "    error_mse = summ_ch / (128*128*3)\n",
    "    error_mean = np.sum(error_mse)/n_images\n",
    "    \n",
    "    return error_mean"
   ]
  },
  {
   "cell_type": "code",
   "execution_count": 15,
   "metadata": {},
   "outputs": [],
   "source": [
    "def PSNRatio(error_mean):\n",
    "    #Input: error_mean - Mean Squarred Error\n",
    "    #Output: PSNR_Value - Peak to Noise Ratio\n",
    "    \n",
    "    PSNR_Value = 10 * math.log10( 255**2 / error_mean)\n",
    "    return PSNR_Value"
   ]
  },
  {
   "cell_type": "code",
   "execution_count": 18,
   "metadata": {},
   "outputs": [],
   "source": [
    "def DeltaE(Xlab, Ylab):\n",
    "    #Input: Xlab - generated images in Lab\n",
    "    #Ylab - real images in Lab\n",
    "    #Output: delE - Delta Eab\n",
    "    \n",
    "    n_images = 214\n",
    "    sumdeltaE = 0\n",
    "    sumimag = 0\n",
    "    for image in range(0,n_images):\n",
    "        for i in range (0, 128):\n",
    "            for j in range (0, 128):\n",
    "                deltaE = sqrt((Ylab[image, i, j ,0] - Xlab[image, i, j ,0])**2 + (Ylab[image, i, j ,1] - Xlab[image, i, j ,1])**2 + (Ylab[image, i, j ,2] - Xlab[image, i, j ,2])**2 )\n",
    "                sumdeltaE = deltaE + sumdeltaE\n",
    "        imag = sumdeltaE / (128*128)\n",
    "        sumdeltaE = 0\n",
    "        sumimag = imag + sumimag\n",
    "\n",
    "    delE = sumimag / n_images\n",
    "    \n",
    "    return delE"
   ]
  }
 ],
 "metadata": {
  "kernelspec": {
   "display_name": "Python 3",
   "language": "python",
   "name": "python3"
  },
  "language_info": {
   "codemirror_mode": {
    "name": "ipython",
    "version": 3
   },
   "file_extension": ".py",
   "mimetype": "text/x-python",
   "name": "python",
   "nbconvert_exporter": "python",
   "pygments_lexer": "ipython3",
   "version": "3.6.8"
  }
 },
 "nbformat": 4,
 "nbformat_minor": 2
}
