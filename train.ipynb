{
 "cells": [
  {
   "cell_type": "markdown",
   "metadata": {},
   "source": [
    "### Colorization of panchromatic space images with Generative Adversarial Network\n",
    "\n",
    "Author: Patrycja Cieplicka\n",
    "\n",
    "Date: 12 Jan 2020\n",
    "\n",
    "Implementation of training GANs"
   ]
  },
  {
   "cell_type": "code",
   "execution_count": null,
   "metadata": {},
   "outputs": [],
   "source": [
    "#initialize GPU\n",
    "from tensorflow.python.client import device_lib\n",
    "import tensorflow as tf\n",
    "print(device_lib.list_local_devices())\n",
    "from keras import backend as K\n",
    "K.tensorflow_backend._get_available_gpus()\n",
    "config = tf.ConfigProto()\n",
    "config.gpu_options.allow_growth = True\n",
    "session = tf.Session(config=config)"
   ]
  },
  {
   "cell_type": "code",
   "execution_count": null,
   "metadata": {},
   "outputs": [],
   "source": [
    "#import\n",
    "from ipynb.fs.full.packages import *\n",
    "from ipynb.fs.full.gan import GAN_ab\n",
    "from ipynb.fs.full.func import load_color, load_gray"
   ]
  },
  {
   "cell_type": "code",
   "execution_count": null,
   "metadata": {},
   "outputs": [],
   "source": [
    "#load training dataset\n",
    "X = load_gray('Train')\n",
    "Y = load_color('Train')\n",
    "\n",
    "#L channel \n",
    "Xtrain = X\n",
    "#ab channels\n",
    "Ytrain = rgb2lab(Y)[:,:,:,1:]\n",
    "Ytrain = Ytrain / 128"
   ]
  },
  {
   "cell_type": "code",
   "execution_count": null,
   "metadata": {},
   "outputs": [],
   "source": [
    "#training parameters\n",
    "epochs = 3750\n",
    "lr_gen = 0.001\n",
    "lr_disc = 0.0001\n",
    "label = 0.95"
   ]
  },
  {
   "cell_type": "code",
   "execution_count": null,
   "metadata": {},
   "outputs": [],
   "source": [
    "#train GAN\n",
    "gan = GAN_ab(lr_gen, lr_disc)\n",
    "gan.train(Xtrain, Ytrain, epochs, label)\n",
    "print(\"End training\")    "
   ]
  }
 ],
 "metadata": {
  "kernelspec": {
   "display_name": "Python 3",
   "language": "python",
   "name": "python3"
  },
  "language_info": {
   "codemirror_mode": {
    "name": "ipython",
    "version": 3
   },
   "file_extension": ".py",
   "mimetype": "text/x-python",
   "name": "python",
   "nbconvert_exporter": "python",
   "pygments_lexer": "ipython3",
   "version": "3.6.8"
  }
 },
 "nbformat": 4,
 "nbformat_minor": 2
}
