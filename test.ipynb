{
 "cells": [
  {
   "cell_type": "markdown",
   "metadata": {},
   "source": [
    "### Colorization of panchromatic space images with Generative Adversarial Network\n",
    "\n",
    "Author: Patrycja Cieplicka\n",
    "\n",
    "Date: 12 Jan 2020\n",
    "\n",
    "Implementation of testing GANs"
   ]
  },
  {
   "cell_type": "code",
   "execution_count": null,
   "metadata": {},
   "outputs": [],
   "source": [
    "#import\n",
    "from ipynb.fs.full.packages import *\n",
    "from ipynb.fs.full.func import load_color, load_gray, predict_image_ab, predict_image_lab\n",
    "from ipynb.fs.full.func import predict_image_rgb,  meanSquarredError, PSNRatio, DeltaE"
   ]
  },
  {
   "cell_type": "code",
   "execution_count": null,
   "metadata": {},
   "outputs": [],
   "source": [
    "#load model\n",
    "epochs = 2500\n",
    "gen_model = load_model('unet_model_semi_batch_' + str(epochs)+'.h5')"
   ]
  },
  {
   "cell_type": "code",
   "execution_count": null,
   "metadata": {},
   "outputs": [],
   "source": [
    "#load images\n",
    "Xpred = load_gray('Test')\n",
    "Ytrue = load_color('Test')"
   ]
  },
  {
   "cell_type": "code",
   "execution_count": null,
   "metadata": {},
   "outputs": [],
   "source": [
    "#Predict outputs\n",
    "Xlab =[]         \n",
    "img_results = predict_image_ab(Xpred, Xlab, gen_model) \n",
    "Xgen = np.array(img_results, dtype=float)    #generated images in RGB\n",
    "Xlab = np.array(Xlab, dtype=float)           #generated images in Lab"
   ]
  },
  {
   "cell_type": "code",
   "execution_count": null,
   "metadata": {},
   "outputs": [],
   "source": [
    "Ylab = rgb2lab(Ytrue)\n",
    "Ylab[:,:,:,0] = Xpred[:,:,:,0]*100           #real images in Lab\n",
    "Yrgb = []\n",
    "for j in range(len(Ylab)):\n",
    "    photo = np.zeros((128, 128, 3))\n",
    "    photo = Ylab[j]\n",
    "    Yrgb.append(lab2rgb(photo))\n",
    "Yrgb = np.array(Yrgb, dtype=float)           #real images in RGB"
   ]
  },
  {
   "cell_type": "code",
   "execution_count": null,
   "metadata": {},
   "outputs": [],
   "source": [
    "#Count MSE, PSNR, DeltaEab\n",
    "mse = meanSquarredError(Xgen, Yrgb)          \n",
    "psnr = PSNRatio(mse)                         \n",
    "deltaEab = DeltaE(Xlab, Ylab)                "
   ]
  },
  {
   "cell_type": "code",
   "execution_count": null,
   "metadata": {},
   "outputs": [],
   "source": [
    "#Save colorized images\n",
    "for j in range(len(Xgen)):\n",
    "    imsave(\"results/img_\"+str(j)+\".png\", Xgen[j])"
   ]
  }
 ],
 "metadata": {
  "kernelspec": {
   "display_name": "Python 3",
   "language": "python",
   "name": "python3"
  },
  "language_info": {
   "codemirror_mode": {
    "name": "ipython",
    "version": 3
   },
   "file_extension": ".py",
   "mimetype": "text/x-python",
   "name": "python",
   "nbconvert_exporter": "python",
   "pygments_lexer": "ipython3",
   "version": "3.6.8"
  }
 },
 "nbformat": 4,
 "nbformat_minor": 2
}
